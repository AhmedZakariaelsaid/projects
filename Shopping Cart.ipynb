{
 "cells": [
  {
   "cell_type": "code",
   "execution_count": 11,
   "id": "f4318a77",
   "metadata": {},
   "outputs": [],
   "source": [
    "foods=[]\n",
    "prices=[]\n",
    "total=0"
   ]
  },
  {
   "cell_type": "code",
   "execution_count": 12,
   "id": "cca6ec20",
   "metadata": {},
   "outputs": [
    {
     "name": "stdout",
     "output_type": "stream",
     "text": [
      "Enter your food: pizza\n",
      "Enter the price of pizza 150\n",
      "Enter your food: hammporger\n",
      "Enter the price of hammporger 325\n",
      "Enter your food: q\n",
      "\n",
      "pizza hammporger \n",
      "Total prices are 475.0 EGP\n"
     ]
    }
   ],
   "source": [
    "while True:\n",
    "    food=input(\"Enter your food: \")\n",
    "    \n",
    "    if food.lower()=='q':\n",
    "        break\n",
    "        \n",
    "    else:\n",
    "        foods.append(food)\n",
    "        price=float(input(f\"Enter the price of {food} \"))\n",
    "        prices.append(price)\n",
    "\n",
    "print()        \n",
    "for food in foods:\n",
    "    print(food,end=' ')\n",
    "    \n",
    "for price in prices:\n",
    "    total+=price\n",
    "\n",
    "print() \n",
    "print(f\"Total prices are {total} EGP\")\n"
   ]
  },
  {
   "cell_type": "code",
   "execution_count": null,
   "id": "88c5db95",
   "metadata": {},
   "outputs": [],
   "source": []
  }
 ],
 "metadata": {
  "kernelspec": {
   "display_name": "Python 3 (ipykernel)",
   "language": "python",
   "name": "python3"
  },
  "language_info": {
   "codemirror_mode": {
    "name": "ipython",
    "version": 3
   },
   "file_extension": ".py",
   "mimetype": "text/x-python",
   "name": "python",
   "nbconvert_exporter": "python",
   "pygments_lexer": "ipython3",
   "version": "3.9.13"
  }
 },
 "nbformat": 4,
 "nbformat_minor": 5
}
