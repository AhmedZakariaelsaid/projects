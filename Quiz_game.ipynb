{
 "cells": [
  {
   "cell_type": "code",
   "execution_count": 94,
   "id": "53b3bc5d",
   "metadata": {},
   "outputs": [],
   "source": [
    "questions=(\"Which African team won the Champions League of Africa the most times in the twentieth century?\",'which team won the first egyp cup?',\"Which country take large number of africa cup of nations?\")"
   ]
  },
  {
   "cell_type": "code",
   "execution_count": 95,
   "id": "9fe253b3",
   "metadata": {},
   "outputs": [],
   "source": [
    "options=(('A. Zamalek ','B. Ahly ','C. Sundowns', 'D. Esperance Tunis'),('A. Ahly ','B. Zamalek ','C. tersana', 'D. alexandrain union club'),('A. Morocco ','B. Cameron ','C. Nigira', 'D. Egypt'))"
   ]
  },
  {
   "cell_type": "code",
   "execution_count": 96,
   "id": "1f1520fa",
   "metadata": {},
   "outputs": [],
   "source": [
    "answers=('A','B','C')"
   ]
  },
  {
   "cell_type": "code",
   "execution_count": 97,
   "id": "4b8f2cc5",
   "metadata": {},
   "outputs": [],
   "source": [
    "quetion_number=0"
   ]
  },
  {
   "cell_type": "code",
   "execution_count": 98,
   "id": "289fab8f",
   "metadata": {},
   "outputs": [],
   "source": [
    "score=0"
   ]
  },
  {
   "cell_type": "code",
   "execution_count": 99,
   "id": "6c0a5c7b",
   "metadata": {},
   "outputs": [],
   "source": [
    "guesses=[]"
   ]
  },
  {
   "cell_type": "code",
   "execution_count": 100,
   "id": "4953d7ce",
   "metadata": {},
   "outputs": [
    {
     "name": "stdout",
     "output_type": "stream",
     "text": [
      "Which African team won the Champions League of Africa the most times in the twentieth century?\n",
      "A. Zamalek \n",
      "B. Ahly \n",
      "C. Sundowns\n",
      "D. Esperance Tunis\n",
      "A or B or C or Da\n",
      "Correct 😊\n",
      "which team won the first egyp cup?\n",
      "A. Ahly \n",
      "B. Zamalek \n",
      "C. tersana\n",
      "D. alexandrain union club\n",
      "A or B or C or Db\n",
      "Correct 😊\n",
      "Which country take large number of africa cup of nations?\n",
      "A. Morocco \n",
      "B. Cameron \n",
      "C. Nigira\n",
      "D. Egypt\n",
      "A or B or C or Dc\n",
      "Correct 😊\n",
      "##########\n",
      "right answers are A B C \n",
      "your answers are A B C \n",
      "Excellent 👍👍👍\n",
      "100% is your score\n"
     ]
    }
   ],
   "source": [
    "for question in questions:\n",
    "    print(question)\n",
    "    for option in options[quetion_number]:\n",
    "        print(option)\n",
    "    guess=input('A or B or C or D').upper()\n",
    "    guesses.append(guess)\n",
    "    if guess==answers[quetion_number]:\n",
    "        score+=1\n",
    "        print(\"Correct 😊\")\n",
    "    else:\n",
    "        print(\"Incorrect 😒\")\n",
    "        print(f\"{answers[quetion_number]} is the correct\")\n",
    "    quetion_number+=1\n",
    "    \n",
    "print(\"##########\")\n",
    "\n",
    "print(\"right answers are\", end=' ')\n",
    "for answer in answers:\n",
    "    print(answer,end=\" \")\n",
    "print()\n",
    "print(\"your answers are\", end= ' ')\n",
    "for guess in guesses:\n",
    "    print(guess,end=\" \")\n",
    "print()\n",
    "    \n",
    "result=int(score/len(questions)*100)\n",
    "if result==100:\n",
    "    print(\"Excellent 👍👍👍\")\n",
    "    print(f\"{result}% is your score\")\n",
    "elif result>50:\n",
    "    print(\"Good \")\n",
    "    print(f\"{result}% is your score\")\n",
    "else:\n",
    "    print(f\"{result}% is your score\")"
   ]
  },
  {
   "cell_type": "code",
   "execution_count": null,
   "id": "9afb4966",
   "metadata": {},
   "outputs": [],
   "source": []
  }
 ],
 "metadata": {
  "kernelspec": {
   "display_name": "Python 3 (ipykernel)",
   "language": "python",
   "name": "python3"
  },
  "language_info": {
   "codemirror_mode": {
    "name": "ipython",
    "version": 3
   },
   "file_extension": ".py",
   "mimetype": "text/x-python",
   "name": "python",
   "nbconvert_exporter": "python",
   "pygments_lexer": "ipython3",
   "version": "3.9.13"
  }
 },
 "nbformat": 4,
 "nbformat_minor": 5
}
