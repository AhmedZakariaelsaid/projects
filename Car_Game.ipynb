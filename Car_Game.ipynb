{
 "cells": [
  {
   "cell_type": "code",
   "execution_count": 1,
   "id": "395ec7dd",
   "metadata": {},
   "outputs": [],
   "source": [
    "# > help\n",
    "# star  to star the car\n",
    "# stop to stop the car\n",
    "# quit to exit"
   ]
  },
  {
   "cell_type": "code",
   "execution_count": 2,
   "id": "317c0384",
   "metadata": {},
   "outputs": [],
   "source": [
    "command=''\n",
    "stop=True"
   ]
  },
  {
   "cell_type": "code",
   "execution_count": null,
   "id": "8ba22d07",
   "metadata": {},
   "outputs": [
    {
     "name": "stdout",
     "output_type": "stream",
     "text": [
      "> start\n",
      "car is started ready to go!\n",
      "> start\n",
      " the car already Started 😊\n",
      "> stop\n",
      "car is stopped\n",
      "> stop\n",
      "the car already stopped 😊\n"
     ]
    }
   ],
   "source": [
    "while True:\n",
    "    command=input(\"> \")\n",
    "    if command=='start':\n",
    "        if stop:\n",
    "            print (\"car is started ready to go!\")\n",
    "            stop=False\n",
    "        else:\n",
    "            print(\" the car already Started 😊\")\n",
    "    elif command=='stop':\n",
    "        if not stop:\n",
    "            print (\"car is stopped\")\n",
    "            stop=True\n",
    "        else:\n",
    "            print(\"the car already stopped 😊\")\n",
    "    elif command=='help':\n",
    "        print(\"\"\"\n",
    "        start to star the car\n",
    "        stop to stop the car\n",
    "        quit to exit\n",
    "        \"\"\")\n",
    "    elif command=='quit':\n",
    "        break\n",
    "    else:\n",
    "        print(\"sorry i don't understand u\")"
   ]
  },
  {
   "cell_type": "code",
   "execution_count": null,
   "id": "dd5131e6",
   "metadata": {},
   "outputs": [],
   "source": []
  }
 ],
 "metadata": {
  "kernelspec": {
   "display_name": "Python 3 (ipykernel)",
   "language": "python",
   "name": "python3"
  },
  "language_info": {
   "codemirror_mode": {
    "name": "ipython",
    "version": 3
   },
   "file_extension": ".py",
   "mimetype": "text/x-python",
   "name": "python",
   "nbconvert_exporter": "python",
   "pygments_lexer": "ipython3",
   "version": "3.9.13"
  }
 },
 "nbformat": 4,
 "nbformat_minor": 5
}
