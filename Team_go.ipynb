{
 "cells": [
  {
   "cell_type": "code",
   "execution_count": 1,
   "id": "567b5c96",
   "metadata": {},
   "outputs": [],
   "source": [
    "import random"
   ]
  },
  {
   "cell_type": "code",
   "execution_count": 2,
   "id": "d401564f",
   "metadata": {},
   "outputs": [],
   "source": [
    "rank_1=['Reda','abdallah','rabea']\n",
    "rank_2=['karim','zakaria','mohamed salem']\n",
    "rank_3=['mido','mahmoud salem','abdelrahim']\n",
    "rank_4=['shahin','hisam','asraf']\n",
    "rank_5=['tamer','omar','mahmoud']"
   ]
  },
  {
   "cell_type": "code",
   "execution_count": 3,
   "id": "390b9b3c",
   "metadata": {},
   "outputs": [],
   "source": [
    "team_a=[]\n",
    "team_b=[]\n",
    "team_c=[]"
   ]
  },
  {
   "cell_type": "code",
   "execution_count": 26,
   "id": "7ac9eb1b",
   "metadata": {},
   "outputs": [],
   "source": [
    "for i in range(1):\n",
    "    one=random.choice(rank_1)\n",
    "    team_a.append(one)\n",
    "    rank_1.remove(one)\n",
    "    two=random.choice(rank_2)\n",
    "    team_a.append(two)\n",
    "    rank_2.remove(two)\n",
    "    three=random.choice(rank_3)\n",
    "    team_a.append(three)\n",
    "    rank_3.remove(three)\n",
    "    four=random.choice(rank_4)\n",
    "    team_a.append(four)\n",
    "    rank_4.remove(four)\n",
    "    five=random.choice(rank_5)\n",
    "    team_a.append(five)\n",
    "    rank_5.remove(five)"
   ]
  },
  {
   "cell_type": "code",
   "execution_count": 13,
   "id": "d8b0dab3",
   "metadata": {},
   "outputs": [],
   "source": [
    "for i in range(1):\n",
    "    one=random.choice(rank_1)\n",
    "    team_b.append(one)\n",
    "    rank_1.remove(one)\n",
    "    two=random.choice(rank_2)\n",
    "    team_b.append(two)\n",
    "    rank_2.remove(two)\n",
    "    three=random.choice(rank_3)\n",
    "    team_b.append(three)\n",
    "    rank_3.remove(three)\n",
    "    four=random.choice(rank_4)\n",
    "    team_b.append(four)\n",
    "    rank_4.remove(four)\n",
    "    five=random.choice(rank_5)\n",
    "    team_b.append(five)\n",
    "    rank_5.remove(five)"
   ]
  },
  {
   "cell_type": "code",
   "execution_count": 14,
   "id": "062c1c9f",
   "metadata": {},
   "outputs": [],
   "source": [
    "for i in range(1):\n",
    "    one=random.choice(rank_1)\n",
    "    team_c.append(one)\n",
    "    rank_1.remove(one)\n",
    "    two=random.choice(rank_2)\n",
    "    team_c.append(two)\n",
    "    rank_2.remove(two)\n",
    "    three=random.choice(rank_3)\n",
    "    team_c.append(three)\n",
    "    rank_3.remove(three)\n",
    "    four=random.choice(rank_4)\n",
    "    team_c.append(four)\n",
    "    rank_4.remove(four)\n",
    "    five=random.choice(rank_5)\n",
    "    team_c.append(five)\n",
    "    rank_5.remove(five)"
   ]
  },
  {
   "cell_type": "code",
   "execution_count": 23,
   "id": "2e70c1d6",
   "metadata": {},
   "outputs": [
    {
     "data": {
      "text/plain": [
       "['abdallah',\n",
       " 'karim',\n",
       " 'mahmoud salem',\n",
       " 'hisam',\n",
       " 'tamer',\n",
       " 'Reda',\n",
       " 'zakaria',\n",
       " 'abdelrahim',\n",
       " 'asraf',\n",
       " 'omar',\n",
       " 'rabea',\n",
       " 'mohamed salem',\n",
       " 'mido',\n",
       " 'shahin',\n",
       " 'mahmoud']"
      ]
     },
     "execution_count": 23,
     "metadata": {},
     "output_type": "execute_result"
    }
   ],
   "source": [
    "team_a"
   ]
  },
  {
   "cell_type": "code",
   "execution_count": 8,
   "id": "f24a0b04",
   "metadata": {},
   "outputs": [
    {
     "data": {
      "text/plain": [
       "['Reda', 'zakaria', 'mido', 'hisam', 'omar']"
      ]
     },
     "execution_count": 8,
     "metadata": {},
     "output_type": "execute_result"
    }
   ],
   "source": [
    "team_b"
   ]
  },
  {
   "cell_type": "code",
   "execution_count": 9,
   "id": "39e6968f",
   "metadata": {},
   "outputs": [
    {
     "data": {
      "text/plain": [
       "['abdallah', 'karim', 'mahmoud salem', 'shahin', 'mahmoud']"
      ]
     },
     "execution_count": 9,
     "metadata": {},
     "output_type": "execute_result"
    }
   ],
   "source": [
    "team_c"
   ]
  },
  {
   "cell_type": "code",
   "execution_count": 29,
   "id": "1d14cae3",
   "metadata": {},
   "outputs": [
    {
     "data": {
      "text/plain": [
       "['abdallah', 'karim', 'abdelrahim', 'asraf', 'mahmoud']"
      ]
     },
     "execution_count": 29,
     "metadata": {},
     "output_type": "execute_result"
    }
   ],
   "source": [
    "team_a"
   ]
  },
  {
   "cell_type": "code",
   "execution_count": null,
   "id": "36e4b3b2",
   "metadata": {},
   "outputs": [],
   "source": []
  }
 ],
 "metadata": {
  "kernelspec": {
   "display_name": "Python 3 (ipykernel)",
   "language": "python",
   "name": "python3"
  },
  "language_info": {
   "codemirror_mode": {
    "name": "ipython",
    "version": 3
   },
   "file_extension": ".py",
   "mimetype": "text/x-python",
   "name": "python",
   "nbconvert_exporter": "python",
   "pygments_lexer": "ipython3",
   "version": "3.9.13"
  }
 },
 "nbformat": 4,
 "nbformat_minor": 5
}
