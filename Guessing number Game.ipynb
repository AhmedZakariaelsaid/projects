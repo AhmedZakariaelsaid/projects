{
 "cells": [
  {
   "cell_type": "code",
   "execution_count": 1,
   "id": "cca92245",
   "metadata": {},
   "outputs": [],
   "source": [
    "def difficulty_level(easy_hard):\n",
    "    if easy_hard == 'easy':\n",
    "        return 10\n",
    "    elif easy_hard == 'hard':\n",
    "        return 5\n",
    "    else:\n",
    "        again = input('check your spilling you should enter easy or hard: ')\n",
    "        return difficulty_level(again)"
   ]
  },
  {
   "cell_type": "code",
   "execution_count": 2,
   "id": "11d7e445",
   "metadata": {},
   "outputs": [
    {
     "data": {
      "text/plain": [
       "10"
      ]
     },
     "execution_count": 2,
     "metadata": {},
     "output_type": "execute_result"
    }
   ],
   "source": [
    "difficulty_level('easy')"
   ]
  },
  {
   "cell_type": "code",
   "execution_count": 3,
   "id": "7146c1fa",
   "metadata": {},
   "outputs": [
    {
     "data": {
      "text/plain": [
       "5"
      ]
     },
     "execution_count": 3,
     "metadata": {},
     "output_type": "execute_result"
    }
   ],
   "source": [
    "difficulty_level('hard')"
   ]
  },
  {
   "cell_type": "code",
   "execution_count": 4,
   "id": "738a6834",
   "metadata": {},
   "outputs": [
    {
     "name": "stdout",
     "output_type": "stream",
     "text": [
      "check your spilling you should enter easy or hard: hard\n"
     ]
    },
    {
     "data": {
      "text/plain": [
       "5"
      ]
     },
     "execution_count": 4,
     "metadata": {},
     "output_type": "execute_result"
    }
   ],
   "source": [
    "difficulty_level('h')"
   ]
  },
  {
   "cell_type": "code",
   "execution_count": 10,
   "id": "b2f7d558",
   "metadata": {},
   "outputs": [
    {
     "name": "stdout",
     "output_type": "stream",
     "text": [
      "28\n",
      "welcome to guessing number game \n",
      "I'm thinking of number between 1 and 100 please guess this number\n",
      "choose the difficulty of the game \"easy\" or \"hard\": hard\n",
      "you have 5 trails remaining to guess right number\n",
      "please Make a guess:1\n",
      "too low\n",
      "please try another guess\n",
      "you have 4 trails remaining\n",
      "please Make a guess:2\n",
      "too low\n",
      "please try another guess\n",
      "you have 3 trails remaining\n",
      "please Make a guess:3\n",
      "too low\n",
      "please try another guess\n",
      "you have 2 trails remaining\n",
      "please Make a guess:4\n",
      "too low\n",
      "please try another guess\n",
      "you have 1 trails remaining\n",
      "please Make a guess:5\n",
      "too low\n",
      "please try another guess\n",
      "you have 0 trails remaining\n",
      "please Make a guess:6\n",
      "you loose the right number 28\n"
     ]
    }
   ],
   "source": [
    "import random\n",
    "choosen_number = random.randint(1 , 100)\n",
    "print(choosen_number)\n",
    "print('welcome to guessing number game \\nI\\'m thinking of number between 1 and 100 please guess this number')\n",
    "difficulty = input('choose the difficulty of the game \"easy\" or \"hard\": ')\n",
    "trails = difficulty_level(difficulty)\n",
    "print(f'you have {trails} trails remaining to guess right number')\n",
    "\n",
    "while True:\n",
    "    guessing_number = int(input('please Make a guess:'))\n",
    "#     trails -= 1\n",
    "    if trails == 0:\n",
    "        print(f'you loose the right number {choosen_number}')\n",
    "        break\n",
    "    if  guessing_number > choosen_number:\n",
    "        print('too high')\n",
    "    elif  guessing_number < choosen_number:\n",
    "        print('too low')\n",
    "    elif guessing_number == choosen_number:\n",
    "        print(f'you win you get the right number {choosen_number}')\n",
    "        break\n",
    "    else:\n",
    "        print(f'you loose the right number {choosen_number}')\n",
    "        break\n",
    "    trails = trails - 1    \n",
    "    print('please try another guess')\n",
    "    print(f'you have {trails} trails remaining')"
   ]
  },
  {
   "cell_type": "code",
   "execution_count": 13,
   "id": "3548c2f3",
   "metadata": {},
   "outputs": [
    {
     "name": "stdout",
     "output_type": "stream",
     "text": [
      "59\n",
      "welcome to guessing number game \n",
      "I'm thinking of number between 1 and 100 please guess this number\n",
      "choose the difficulty of the game \"easy\" or \"hard\": hard\n",
      "you have 5 trails remaining to guess right number\n",
      "please Make a guess:59\n",
      "you win you get the right number 59\n"
     ]
    }
   ],
   "source": [
    "import random\n",
    "choosen_number = random.randint(1 , 100)\n",
    "print(choosen_number)\n",
    "print('welcome to guessing number game \\nI\\'m thinking of number between 1 and 100 please guess this number')\n",
    "difficulty = input('choose the difficulty of the game \"easy\" or \"hard\": ')\n",
    "trails = difficulty_level(difficulty)\n",
    "print(f'you have {trails} trails remaining to guess right number')\n",
    "\n",
    "while True:\n",
    "    guessing_number = int(input('please Make a guess:'))\n",
    "    \n",
    "    if trails == 0:\n",
    "        print(f'you loose the right number {choosen_number}')\n",
    "        break\n",
    "    if  guessing_number > choosen_number:\n",
    "        print('too high')\n",
    "    elif  guessing_number < choosen_number:\n",
    "        print('too low')\n",
    "    elif guessing_number == choosen_number:\n",
    "        print(f'you win you get the right number {choosen_number}')\n",
    "        break\n",
    "    else:\n",
    "        print(f'you loose the right number {choosen_number}')\n",
    "        break\n",
    "    trails -= 1## trails = trails - 1    \n",
    "    print('please try another guess')\n",
    "    print(f'you have {trails} trails remaining')"
   ]
  },
  {
   "cell_type": "code",
   "execution_count": null,
   "id": "8432545d",
   "metadata": {},
   "outputs": [],
   "source": []
  }
 ],
 "metadata": {
  "kernelspec": {
   "display_name": "Python 3 (ipykernel)",
   "language": "python",
   "name": "python3"
  },
  "language_info": {
   "codemirror_mode": {
    "name": "ipython",
    "version": 3
   },
   "file_extension": ".py",
   "mimetype": "text/x-python",
   "name": "python",
   "nbconvert_exporter": "python",
   "pygments_lexer": "ipython3",
   "version": "3.9.13"
  }
 },
 "nbformat": 4,
 "nbformat_minor": 5
}
